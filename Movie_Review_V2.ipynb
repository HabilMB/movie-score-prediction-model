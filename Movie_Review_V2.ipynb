{
  "cells": [
    {
      "cell_type": "markdown",
      "metadata": {
        "id": "view-in-github",
        "colab_type": "text"
      },
      "source": [
        "<a href=\"https://colab.research.google.com/github/HabilMB/movie-score-prediction-model/blob/main/Movie_Review_V2.ipynb\" target=\"_parent\"><img src=\"https://colab.research.google.com/assets/colab-badge.svg\" alt=\"Open In Colab\"/></a>"
      ]
    },
    {
      "cell_type": "markdown",
      "metadata": {
        "id": "24pHRBvjr70t"
      },
      "source": [
        "##setup dependencies"
      ]
    },
    {
      "cell_type": "code",
      "execution_count": null,
      "metadata": {
        "id": "0BxvsYHUn877"
      },
      "outputs": [],
      "source": [
        "import ast\n",
        "import re\n",
        "import matplotlib.pyplot as plt\n",
        "import tensorflow as tf\n",
        "from keras import layers\n",
        "import numpy as np\n",
        "from keras.layers import SimpleRNN\n",
        "\n",
        "\n",
        "import pandas as pd\n",
        "from collections import Counter\n",
        "import re"
      ]
    },
    {
      "cell_type": "code",
      "execution_count": null,
      "metadata": {
        "colab": {
          "base_uri": "https://localhost:8080/",
          "height": 91
        },
        "id": "VQdR0HXFoBMC",
        "outputId": "51bb19dd-2c7f-47a3-cb45-2f555ebf3048"
      },
      "outputs": [
        {
          "output_type": "display_data",
          "data": {
            "text/plain": [
              "<IPython.core.display.HTML object>"
            ],
            "text/html": [
              "\n",
              "     <input type=\"file\" id=\"files-a855589d-a718-4d51-993b-a54d89636865\" name=\"files[]\" multiple disabled\n",
              "        style=\"border:none\" />\n",
              "     <output id=\"result-a855589d-a718-4d51-993b-a54d89636865\">\n",
              "      Upload widget is only available when the cell has been executed in the\n",
              "      current browser session. Please rerun this cell to enable.\n",
              "      </output>\n",
              "      <script>// Copyright 2017 Google LLC\n",
              "//\n",
              "// Licensed under the Apache License, Version 2.0 (the \"License\");\n",
              "// you may not use this file except in compliance with the License.\n",
              "// You may obtain a copy of the License at\n",
              "//\n",
              "//      http://www.apache.org/licenses/LICENSE-2.0\n",
              "//\n",
              "// Unless required by applicable law or agreed to in writing, software\n",
              "// distributed under the License is distributed on an \"AS IS\" BASIS,\n",
              "// WITHOUT WARRANTIES OR CONDITIONS OF ANY KIND, either express or implied.\n",
              "// See the License for the specific language governing permissions and\n",
              "// limitations under the License.\n",
              "\n",
              "/**\n",
              " * @fileoverview Helpers for google.colab Python module.\n",
              " */\n",
              "(function(scope) {\n",
              "function span(text, styleAttributes = {}) {\n",
              "  const element = document.createElement('span');\n",
              "  element.textContent = text;\n",
              "  for (const key of Object.keys(styleAttributes)) {\n",
              "    element.style[key] = styleAttributes[key];\n",
              "  }\n",
              "  return element;\n",
              "}\n",
              "\n",
              "// Max number of bytes which will be uploaded at a time.\n",
              "const MAX_PAYLOAD_SIZE = 100 * 1024;\n",
              "\n",
              "function _uploadFiles(inputId, outputId) {\n",
              "  const steps = uploadFilesStep(inputId, outputId);\n",
              "  const outputElement = document.getElementById(outputId);\n",
              "  // Cache steps on the outputElement to make it available for the next call\n",
              "  // to uploadFilesContinue from Python.\n",
              "  outputElement.steps = steps;\n",
              "\n",
              "  return _uploadFilesContinue(outputId);\n",
              "}\n",
              "\n",
              "// This is roughly an async generator (not supported in the browser yet),\n",
              "// where there are multiple asynchronous steps and the Python side is going\n",
              "// to poll for completion of each step.\n",
              "// This uses a Promise to block the python side on completion of each step,\n",
              "// then passes the result of the previous step as the input to the next step.\n",
              "function _uploadFilesContinue(outputId) {\n",
              "  const outputElement = document.getElementById(outputId);\n",
              "  const steps = outputElement.steps;\n",
              "\n",
              "  const next = steps.next(outputElement.lastPromiseValue);\n",
              "  return Promise.resolve(next.value.promise).then((value) => {\n",
              "    // Cache the last promise value to make it available to the next\n",
              "    // step of the generator.\n",
              "    outputElement.lastPromiseValue = value;\n",
              "    return next.value.response;\n",
              "  });\n",
              "}\n",
              "\n",
              "/**\n",
              " * Generator function which is called between each async step of the upload\n",
              " * process.\n",
              " * @param {string} inputId Element ID of the input file picker element.\n",
              " * @param {string} outputId Element ID of the output display.\n",
              " * @return {!Iterable<!Object>} Iterable of next steps.\n",
              " */\n",
              "function* uploadFilesStep(inputId, outputId) {\n",
              "  const inputElement = document.getElementById(inputId);\n",
              "  inputElement.disabled = false;\n",
              "\n",
              "  const outputElement = document.getElementById(outputId);\n",
              "  outputElement.innerHTML = '';\n",
              "\n",
              "  const pickedPromise = new Promise((resolve) => {\n",
              "    inputElement.addEventListener('change', (e) => {\n",
              "      resolve(e.target.files);\n",
              "    });\n",
              "  });\n",
              "\n",
              "  const cancel = document.createElement('button');\n",
              "  inputElement.parentElement.appendChild(cancel);\n",
              "  cancel.textContent = 'Cancel upload';\n",
              "  const cancelPromise = new Promise((resolve) => {\n",
              "    cancel.onclick = () => {\n",
              "      resolve(null);\n",
              "    };\n",
              "  });\n",
              "\n",
              "  // Wait for the user to pick the files.\n",
              "  const files = yield {\n",
              "    promise: Promise.race([pickedPromise, cancelPromise]),\n",
              "    response: {\n",
              "      action: 'starting',\n",
              "    }\n",
              "  };\n",
              "\n",
              "  cancel.remove();\n",
              "\n",
              "  // Disable the input element since further picks are not allowed.\n",
              "  inputElement.disabled = true;\n",
              "\n",
              "  if (!files) {\n",
              "    return {\n",
              "      response: {\n",
              "        action: 'complete',\n",
              "      }\n",
              "    };\n",
              "  }\n",
              "\n",
              "  for (const file of files) {\n",
              "    const li = document.createElement('li');\n",
              "    li.append(span(file.name, {fontWeight: 'bold'}));\n",
              "    li.append(span(\n",
              "        `(${file.type || 'n/a'}) - ${file.size} bytes, ` +\n",
              "        `last modified: ${\n",
              "            file.lastModifiedDate ? file.lastModifiedDate.toLocaleDateString() :\n",
              "                                    'n/a'} - `));\n",
              "    const percent = span('0% done');\n",
              "    li.appendChild(percent);\n",
              "\n",
              "    outputElement.appendChild(li);\n",
              "\n",
              "    const fileDataPromise = new Promise((resolve) => {\n",
              "      const reader = new FileReader();\n",
              "      reader.onload = (e) => {\n",
              "        resolve(e.target.result);\n",
              "      };\n",
              "      reader.readAsArrayBuffer(file);\n",
              "    });\n",
              "    // Wait for the data to be ready.\n",
              "    let fileData = yield {\n",
              "      promise: fileDataPromise,\n",
              "      response: {\n",
              "        action: 'continue',\n",
              "      }\n",
              "    };\n",
              "\n",
              "    // Use a chunked sending to avoid message size limits. See b/62115660.\n",
              "    let position = 0;\n",
              "    do {\n",
              "      const length = Math.min(fileData.byteLength - position, MAX_PAYLOAD_SIZE);\n",
              "      const chunk = new Uint8Array(fileData, position, length);\n",
              "      position += length;\n",
              "\n",
              "      const base64 = btoa(String.fromCharCode.apply(null, chunk));\n",
              "      yield {\n",
              "        response: {\n",
              "          action: 'append',\n",
              "          file: file.name,\n",
              "          data: base64,\n",
              "        },\n",
              "      };\n",
              "\n",
              "      let percentDone = fileData.byteLength === 0 ?\n",
              "          100 :\n",
              "          Math.round((position / fileData.byteLength) * 100);\n",
              "      percent.textContent = `${percentDone}% done`;\n",
              "\n",
              "    } while (position < fileData.byteLength);\n",
              "  }\n",
              "\n",
              "  // All done.\n",
              "  yield {\n",
              "    response: {\n",
              "      action: 'complete',\n",
              "    }\n",
              "  };\n",
              "}\n",
              "\n",
              "scope.google = scope.google || {};\n",
              "scope.google.colab = scope.google.colab || {};\n",
              "scope.google.colab._files = {\n",
              "  _uploadFiles,\n",
              "  _uploadFilesContinue,\n",
              "};\n",
              "})(self);\n",
              "</script> "
            ]
          },
          "metadata": {}
        },
        {
          "output_type": "stream",
          "name": "stdout",
          "text": [
            "Saving kaggle.json to kaggle.json\n"
          ]
        },
        {
          "output_type": "execute_result",
          "data": {
            "text/plain": [
              "{'kaggle.json': b'{\"username\":\"habilmediobhakti\",\"key\":\"c74390766cf8334a984cd192383c4532\"}'}"
            ]
          },
          "metadata": {},
          "execution_count": 2
        }
      ],
      "source": [
        "#GET kaggle.json FROM YOUR ACCOUNT\n",
        "from google.colab import files\n",
        "files.upload()"
      ]
    },
    {
      "cell_type": "code",
      "execution_count": null,
      "metadata": {
        "id": "ifTlrFYIoJdx",
        "colab": {
          "base_uri": "https://localhost:8080/"
        },
        "outputId": "cc513164-212e-475e-f1fd-21ac2d0ef418"
      },
      "outputs": [
        {
          "output_type": "stream",
          "name": "stdout",
          "text": [
            "Warning: Your Kaggle API key is readable by other users on this system! To fix this, you can run 'chmod 600 /root/.kaggle/kaggle.json'\n",
            "Downloading 25k-movie-dataset.zip to /content\n",
            " 64% 3.00M/4.67M [00:00<00:00, 5.56MB/s]\n",
            "100% 4.67M/4.67M [00:00<00:00, 6.78MB/s]\n"
          ]
        }
      ],
      "source": [
        "!pip install -q kaggle\n",
        "!mkdir ~/.kaggle\n",
        "!cp /content/kaggle.json ~/.kaggle/\n",
        "!kaggle datasets download -d utsh0dey/25k-movie-dataset"
      ]
    },
    {
      "cell_type": "code",
      "execution_count": null,
      "metadata": {
        "id": "0KLrK6ePoK0F",
        "colab": {
          "base_uri": "https://localhost:8080/"
        },
        "outputId": "2490d668-3585-4559-ad68-7e8c41e8d893"
      },
      "outputs": [
        {
          "output_type": "stream",
          "name": "stdout",
          "text": [
            "Archive:  /content/25k-movie-dataset.zip\n",
            "  inflating: /content/kaggle/25k IMDb movie Dataset.csv  \n"
          ]
        }
      ],
      "source": [
        "!unzip \"/content/25k-movie-dataset\" -d \"/content/kaggle/\""
      ]
    },
    {
      "cell_type": "code",
      "execution_count": null,
      "metadata": {
        "id": "b9bCer8op3mN",
        "colab": {
          "base_uri": "https://localhost:8080/",
          "height": 779
        },
        "outputId": "c889c30f-bb26-4e87-e71b-95347687be63"
      },
      "outputs": [
        {
          "output_type": "execute_result",
          "data": {
            "text/plain": [
              "                         movie title                  Run Time     Rating  \\\n",
              "0                  Top Gun: Maverick  $170,000,000 (estimated)        8.6   \n",
              "1            Jurassic World Dominion        2 hours 27 minutes          6   \n",
              "2                            Top Gun   $15,000,000 (estimated)        6.9   \n",
              "3                          Lightyear               $71,101,257        5.2   \n",
              "4                         Spiderhead              not-released        5.4   \n",
              "5  Everything Everywhere All at Once        2 hours 19 minutes        8.3   \n",
              "6                        Interceptor              not-released        4.4   \n",
              "7                        Interceptor         1 hour 30 minutes        3.6   \n",
              "8                         Black Adam              not-released  no-rating   \n",
              "9                       The Northman   $60,000,000 (estimated)        7.2   \n",
              "\n",
              "  User Rating                               Generes  \\\n",
              "0        187K                   ['Action', 'Drama']   \n",
              "1         56K     ['Action', 'Adventure', 'Sci-Fi']   \n",
              "2        380K                   ['Action', 'Drama']   \n",
              "3         32K  ['Animation', 'Action', 'Adventure']   \n",
              "4         23K          ['Action', 'Crime', 'Drama']   \n",
              "5        124K     ['Action', 'Adventure', 'Comedy']   \n",
              "6         17K      ['Action', 'Adventure', 'Drama']   \n",
              "7         819      ['Action', 'Sci-Fi', 'Thriller']   \n",
              "8           0       ['Action', 'Fantasy', 'Sci-Fi']   \n",
              "9        128K      ['Action', 'Adventure', 'Drama']   \n",
              "\n",
              "                                            Overview  \\\n",
              "0  After more than thirty years of service as one...   \n",
              "1  Four years after the destruction of Isla Nubla...   \n",
              "2  As students at the United States Navy's elite ...   \n",
              "3  While spending years attempting to return home...   \n",
              "4  In the near future, convicts are offered the c...   \n",
              "5  An aging Chinese immigrant is swept up in an i...   \n",
              "6  One Army captain must use her years of tactica...   \n",
              "7  When Special forces agent Matvey Sobolev survi...   \n",
              "8  Nearly 5,000 years after he was bestowed with ...   \n",
              "9  From visionary director Robert Eggers comes Th...   \n",
              "\n",
              "                                        Plot Kyeword             Director  \\\n",
              "0  ['fighter jet', 'sequel', 'u.s. navy', 'fighte...      Joseph Kosinski   \n",
              "1  ['dinosaur', 'jurassic park', 'tyrannosaurus r...      Colin Trevorrow   \n",
              "2  ['pilot', 'male camaraderie', 'u.s. navy', 'gr...           Tony Scott   \n",
              "3  ['galaxy', 'spaceship', 'robot', 'rocket', 'sp...        Angus MacLane   \n",
              "4  ['discover', 'medical', 'test', 'reality', 'fi...      Joseph Kosinski   \n",
              "5  ['multiverse', 'saving the world', 'mother dau...             Dan Kwan   \n",
              "6  ['violence', 'gun', 'handgun', 'gun fight', 'o...       Matthew Reilly   \n",
              "7  ['outer space', 'female rear nudity', 'surviva...  Konstantin Maksimov   \n",
              "8  ['dc extended universe', 'based on comic', 'ba...   Jaume Collet-Serra   \n",
              "9  ['female full frontal nudity', 'hairy bush', '...        Robert Eggers   \n",
              "\n",
              "                                         Top 5 Casts             Writer  \\\n",
              "0  ['Jack Epps Jr.', 'Peter Craig', 'Tom Cruise',...           Jim Cash   \n",
              "1  ['Colin Trevorrow', 'Derek Connolly', 'Chris P...   Emily Carmichael   \n",
              "2  ['Jack Epps Jr.', 'Ehud Yonay', 'Tom Cruise', ...           Jim Cash   \n",
              "3  ['Jason Headley', 'Matthew Aldrich', 'Chris Ev...      Angus MacLane   \n",
              "4  ['Rhett Reese', 'Paul Wernick', 'Chris Hemswor...    George Saunders   \n",
              "5  ['Dan Kwan', 'Daniel Scheinert', 'Michelle Yeo...   Daniel Scheinert   \n",
              "6  ['Stuart Beattie', 'Elsa Pataky', 'Luke Bracey...     Matthew Reilly   \n",
              "7  ['Konstantin Maksimov', 'Larisa Stepanova', 'I...  Vasily Golovachov   \n",
              "8  ['Rory Haines', 'Sohrab Noshirvani', 'Sarah Sh...      Adam Sztykiel   \n",
              "9  ['Robert Eggers', 'Alexander Skarsgård', 'Nico...               Sjón   \n",
              "\n",
              "    year                path  \n",
              "0  -2022   /title/tt1745960/  \n",
              "1  -2022   /title/tt8041270/  \n",
              "2  -1986   /title/tt0092099/  \n",
              "3  -2022  /title/tt10298810/  \n",
              "4  -2022   /title/tt9783600/  \n",
              "5  -2022   /title/tt6710474/  \n",
              "6  -2022  /title/tt14174940/  \n",
              "7  -2022  /title/tt14174940/  \n",
              "8  -2022   /title/tt6443346/  \n",
              "9  -2022  /title/tt11138512/  "
            ],
            "text/html": [
              "\n",
              "  <div id=\"df-ecf14d01-9e9e-498a-8c33-55b8b09b2ae1\" class=\"colab-df-container\">\n",
              "    <div>\n",
              "<style scoped>\n",
              "    .dataframe tbody tr th:only-of-type {\n",
              "        vertical-align: middle;\n",
              "    }\n",
              "\n",
              "    .dataframe tbody tr th {\n",
              "        vertical-align: top;\n",
              "    }\n",
              "\n",
              "    .dataframe thead th {\n",
              "        text-align: right;\n",
              "    }\n",
              "</style>\n",
              "<table border=\"1\" class=\"dataframe\">\n",
              "  <thead>\n",
              "    <tr style=\"text-align: right;\">\n",
              "      <th></th>\n",
              "      <th>movie title</th>\n",
              "      <th>Run Time</th>\n",
              "      <th>Rating</th>\n",
              "      <th>User Rating</th>\n",
              "      <th>Generes</th>\n",
              "      <th>Overview</th>\n",
              "      <th>Plot Kyeword</th>\n",
              "      <th>Director</th>\n",
              "      <th>Top 5 Casts</th>\n",
              "      <th>Writer</th>\n",
              "      <th>year</th>\n",
              "      <th>path</th>\n",
              "    </tr>\n",
              "  </thead>\n",
              "  <tbody>\n",
              "    <tr>\n",
              "      <th>0</th>\n",
              "      <td>Top Gun: Maverick</td>\n",
              "      <td>$170,000,000 (estimated)</td>\n",
              "      <td>8.6</td>\n",
              "      <td>187K</td>\n",
              "      <td>['Action', 'Drama']</td>\n",
              "      <td>After more than thirty years of service as one...</td>\n",
              "      <td>['fighter jet', 'sequel', 'u.s. navy', 'fighte...</td>\n",
              "      <td>Joseph Kosinski</td>\n",
              "      <td>['Jack Epps Jr.', 'Peter Craig', 'Tom Cruise',...</td>\n",
              "      <td>Jim Cash</td>\n",
              "      <td>-2022</td>\n",
              "      <td>/title/tt1745960/</td>\n",
              "    </tr>\n",
              "    <tr>\n",
              "      <th>1</th>\n",
              "      <td>Jurassic World Dominion</td>\n",
              "      <td>2 hours 27 minutes</td>\n",
              "      <td>6</td>\n",
              "      <td>56K</td>\n",
              "      <td>['Action', 'Adventure', 'Sci-Fi']</td>\n",
              "      <td>Four years after the destruction of Isla Nubla...</td>\n",
              "      <td>['dinosaur', 'jurassic park', 'tyrannosaurus r...</td>\n",
              "      <td>Colin Trevorrow</td>\n",
              "      <td>['Colin Trevorrow', 'Derek Connolly', 'Chris P...</td>\n",
              "      <td>Emily Carmichael</td>\n",
              "      <td>-2022</td>\n",
              "      <td>/title/tt8041270/</td>\n",
              "    </tr>\n",
              "    <tr>\n",
              "      <th>2</th>\n",
              "      <td>Top Gun</td>\n",
              "      <td>$15,000,000 (estimated)</td>\n",
              "      <td>6.9</td>\n",
              "      <td>380K</td>\n",
              "      <td>['Action', 'Drama']</td>\n",
              "      <td>As students at the United States Navy's elite ...</td>\n",
              "      <td>['pilot', 'male camaraderie', 'u.s. navy', 'gr...</td>\n",
              "      <td>Tony Scott</td>\n",
              "      <td>['Jack Epps Jr.', 'Ehud Yonay', 'Tom Cruise', ...</td>\n",
              "      <td>Jim Cash</td>\n",
              "      <td>-1986</td>\n",
              "      <td>/title/tt0092099/</td>\n",
              "    </tr>\n",
              "    <tr>\n",
              "      <th>3</th>\n",
              "      <td>Lightyear</td>\n",
              "      <td>$71,101,257</td>\n",
              "      <td>5.2</td>\n",
              "      <td>32K</td>\n",
              "      <td>['Animation', 'Action', 'Adventure']</td>\n",
              "      <td>While spending years attempting to return home...</td>\n",
              "      <td>['galaxy', 'spaceship', 'robot', 'rocket', 'sp...</td>\n",
              "      <td>Angus MacLane</td>\n",
              "      <td>['Jason Headley', 'Matthew Aldrich', 'Chris Ev...</td>\n",
              "      <td>Angus MacLane</td>\n",
              "      <td>-2022</td>\n",
              "      <td>/title/tt10298810/</td>\n",
              "    </tr>\n",
              "    <tr>\n",
              "      <th>4</th>\n",
              "      <td>Spiderhead</td>\n",
              "      <td>not-released</td>\n",
              "      <td>5.4</td>\n",
              "      <td>23K</td>\n",
              "      <td>['Action', 'Crime', 'Drama']</td>\n",
              "      <td>In the near future, convicts are offered the c...</td>\n",
              "      <td>['discover', 'medical', 'test', 'reality', 'fi...</td>\n",
              "      <td>Joseph Kosinski</td>\n",
              "      <td>['Rhett Reese', 'Paul Wernick', 'Chris Hemswor...</td>\n",
              "      <td>George Saunders</td>\n",
              "      <td>-2022</td>\n",
              "      <td>/title/tt9783600/</td>\n",
              "    </tr>\n",
              "    <tr>\n",
              "      <th>5</th>\n",
              "      <td>Everything Everywhere All at Once</td>\n",
              "      <td>2 hours 19 minutes</td>\n",
              "      <td>8.3</td>\n",
              "      <td>124K</td>\n",
              "      <td>['Action', 'Adventure', 'Comedy']</td>\n",
              "      <td>An aging Chinese immigrant is swept up in an i...</td>\n",
              "      <td>['multiverse', 'saving the world', 'mother dau...</td>\n",
              "      <td>Dan Kwan</td>\n",
              "      <td>['Dan Kwan', 'Daniel Scheinert', 'Michelle Yeo...</td>\n",
              "      <td>Daniel Scheinert</td>\n",
              "      <td>-2022</td>\n",
              "      <td>/title/tt6710474/</td>\n",
              "    </tr>\n",
              "    <tr>\n",
              "      <th>6</th>\n",
              "      <td>Interceptor</td>\n",
              "      <td>not-released</td>\n",
              "      <td>4.4</td>\n",
              "      <td>17K</td>\n",
              "      <td>['Action', 'Adventure', 'Drama']</td>\n",
              "      <td>One Army captain must use her years of tactica...</td>\n",
              "      <td>['violence', 'gun', 'handgun', 'gun fight', 'o...</td>\n",
              "      <td>Matthew Reilly</td>\n",
              "      <td>['Stuart Beattie', 'Elsa Pataky', 'Luke Bracey...</td>\n",
              "      <td>Matthew Reilly</td>\n",
              "      <td>-2022</td>\n",
              "      <td>/title/tt14174940/</td>\n",
              "    </tr>\n",
              "    <tr>\n",
              "      <th>7</th>\n",
              "      <td>Interceptor</td>\n",
              "      <td>1 hour 30 minutes</td>\n",
              "      <td>3.6</td>\n",
              "      <td>819</td>\n",
              "      <td>['Action', 'Sci-Fi', 'Thriller']</td>\n",
              "      <td>When Special forces agent Matvey Sobolev survi...</td>\n",
              "      <td>['outer space', 'female rear nudity', 'surviva...</td>\n",
              "      <td>Konstantin Maksimov</td>\n",
              "      <td>['Konstantin Maksimov', 'Larisa Stepanova', 'I...</td>\n",
              "      <td>Vasily Golovachov</td>\n",
              "      <td>-2022</td>\n",
              "      <td>/title/tt14174940/</td>\n",
              "    </tr>\n",
              "    <tr>\n",
              "      <th>8</th>\n",
              "      <td>Black Adam</td>\n",
              "      <td>not-released</td>\n",
              "      <td>no-rating</td>\n",
              "      <td>0</td>\n",
              "      <td>['Action', 'Fantasy', 'Sci-Fi']</td>\n",
              "      <td>Nearly 5,000 years after he was bestowed with ...</td>\n",
              "      <td>['dc extended universe', 'based on comic', 'ba...</td>\n",
              "      <td>Jaume Collet-Serra</td>\n",
              "      <td>['Rory Haines', 'Sohrab Noshirvani', 'Sarah Sh...</td>\n",
              "      <td>Adam Sztykiel</td>\n",
              "      <td>-2022</td>\n",
              "      <td>/title/tt6443346/</td>\n",
              "    </tr>\n",
              "    <tr>\n",
              "      <th>9</th>\n",
              "      <td>The Northman</td>\n",
              "      <td>$60,000,000 (estimated)</td>\n",
              "      <td>7.2</td>\n",
              "      <td>128K</td>\n",
              "      <td>['Action', 'Adventure', 'Drama']</td>\n",
              "      <td>From visionary director Robert Eggers comes Th...</td>\n",
              "      <td>['female full frontal nudity', 'hairy bush', '...</td>\n",
              "      <td>Robert Eggers</td>\n",
              "      <td>['Robert Eggers', 'Alexander Skarsgård', 'Nico...</td>\n",
              "      <td>Sjón</td>\n",
              "      <td>-2022</td>\n",
              "      <td>/title/tt11138512/</td>\n",
              "    </tr>\n",
              "  </tbody>\n",
              "</table>\n",
              "</div>\n",
              "    <div class=\"colab-df-buttons\">\n",
              "\n",
              "  <div class=\"colab-df-container\">\n",
              "    <button class=\"colab-df-convert\" onclick=\"convertToInteractive('df-ecf14d01-9e9e-498a-8c33-55b8b09b2ae1')\"\n",
              "            title=\"Convert this dataframe to an interactive table.\"\n",
              "            style=\"display:none;\">\n",
              "\n",
              "  <svg xmlns=\"http://www.w3.org/2000/svg\" height=\"24px\" viewBox=\"0 -960 960 960\">\n",
              "    <path d=\"M120-120v-720h720v720H120Zm60-500h600v-160H180v160Zm220 220h160v-160H400v160Zm0 220h160v-160H400v160ZM180-400h160v-160H180v160Zm440 0h160v-160H620v160ZM180-180h160v-160H180v160Zm440 0h160v-160H620v160Z\"/>\n",
              "  </svg>\n",
              "    </button>\n",
              "\n",
              "  <style>\n",
              "    .colab-df-container {\n",
              "      display:flex;\n",
              "      gap: 12px;\n",
              "    }\n",
              "\n",
              "    .colab-df-convert {\n",
              "      background-color: #E8F0FE;\n",
              "      border: none;\n",
              "      border-radius: 50%;\n",
              "      cursor: pointer;\n",
              "      display: none;\n",
              "      fill: #1967D2;\n",
              "      height: 32px;\n",
              "      padding: 0 0 0 0;\n",
              "      width: 32px;\n",
              "    }\n",
              "\n",
              "    .colab-df-convert:hover {\n",
              "      background-color: #E2EBFA;\n",
              "      box-shadow: 0px 1px 2px rgba(60, 64, 67, 0.3), 0px 1px 3px 1px rgba(60, 64, 67, 0.15);\n",
              "      fill: #174EA6;\n",
              "    }\n",
              "\n",
              "    .colab-df-buttons div {\n",
              "      margin-bottom: 4px;\n",
              "    }\n",
              "\n",
              "    [theme=dark] .colab-df-convert {\n",
              "      background-color: #3B4455;\n",
              "      fill: #D2E3FC;\n",
              "    }\n",
              "\n",
              "    [theme=dark] .colab-df-convert:hover {\n",
              "      background-color: #434B5C;\n",
              "      box-shadow: 0px 1px 3px 1px rgba(0, 0, 0, 0.15);\n",
              "      filter: drop-shadow(0px 1px 2px rgba(0, 0, 0, 0.3));\n",
              "      fill: #FFFFFF;\n",
              "    }\n",
              "  </style>\n",
              "\n",
              "    <script>\n",
              "      const buttonEl =\n",
              "        document.querySelector('#df-ecf14d01-9e9e-498a-8c33-55b8b09b2ae1 button.colab-df-convert');\n",
              "      buttonEl.style.display =\n",
              "        google.colab.kernel.accessAllowed ? 'block' : 'none';\n",
              "\n",
              "      async function convertToInteractive(key) {\n",
              "        const element = document.querySelector('#df-ecf14d01-9e9e-498a-8c33-55b8b09b2ae1');\n",
              "        const dataTable =\n",
              "          await google.colab.kernel.invokeFunction('convertToInteractive',\n",
              "                                                    [key], {});\n",
              "        if (!dataTable) return;\n",
              "\n",
              "        const docLinkHtml = 'Like what you see? Visit the ' +\n",
              "          '<a target=\"_blank\" href=https://colab.research.google.com/notebooks/data_table.ipynb>data table notebook</a>'\n",
              "          + ' to learn more about interactive tables.';\n",
              "        element.innerHTML = '';\n",
              "        dataTable['output_type'] = 'display_data';\n",
              "        await google.colab.output.renderOutput(dataTable, element);\n",
              "        const docLink = document.createElement('div');\n",
              "        docLink.innerHTML = docLinkHtml;\n",
              "        element.appendChild(docLink);\n",
              "      }\n",
              "    </script>\n",
              "  </div>\n",
              "\n",
              "\n",
              "<div id=\"df-e7486e1c-2b6c-49ed-8e69-e5d607219e2a\">\n",
              "  <button class=\"colab-df-quickchart\" onclick=\"quickchart('df-e7486e1c-2b6c-49ed-8e69-e5d607219e2a')\"\n",
              "            title=\"Suggest charts.\"\n",
              "            style=\"display:none;\">\n",
              "\n",
              "<svg xmlns=\"http://www.w3.org/2000/svg\" height=\"24px\"viewBox=\"0 0 24 24\"\n",
              "     width=\"24px\">\n",
              "    <g>\n",
              "        <path d=\"M19 3H5c-1.1 0-2 .9-2 2v14c0 1.1.9 2 2 2h14c1.1 0 2-.9 2-2V5c0-1.1-.9-2-2-2zM9 17H7v-7h2v7zm4 0h-2V7h2v10zm4 0h-2v-4h2v4z\"/>\n",
              "    </g>\n",
              "</svg>\n",
              "  </button>\n",
              "\n",
              "<style>\n",
              "  .colab-df-quickchart {\n",
              "    background-color: #E8F0FE;\n",
              "    border: none;\n",
              "    border-radius: 50%;\n",
              "    cursor: pointer;\n",
              "    display: none;\n",
              "    fill: #1967D2;\n",
              "    height: 32px;\n",
              "    padding: 0 0 0 0;\n",
              "    width: 32px;\n",
              "  }\n",
              "\n",
              "  .colab-df-quickchart:hover {\n",
              "    background-color: #E2EBFA;\n",
              "    box-shadow: 0px 1px 2px rgba(60, 64, 67, 0.3), 0px 1px 3px 1px rgba(60, 64, 67, 0.15);\n",
              "    fill: #174EA6;\n",
              "  }\n",
              "\n",
              "  [theme=dark] .colab-df-quickchart {\n",
              "    background-color: #3B4455;\n",
              "    fill: #D2E3FC;\n",
              "  }\n",
              "\n",
              "  [theme=dark] .colab-df-quickchart:hover {\n",
              "    background-color: #434B5C;\n",
              "    box-shadow: 0px 1px 3px 1px rgba(0, 0, 0, 0.15);\n",
              "    filter: drop-shadow(0px 1px 2px rgba(0, 0, 0, 0.3));\n",
              "    fill: #FFFFFF;\n",
              "  }\n",
              "</style>\n",
              "\n",
              "  <script>\n",
              "    async function quickchart(key) {\n",
              "      const charts = await google.colab.kernel.invokeFunction(\n",
              "          'suggestCharts', [key], {});\n",
              "    }\n",
              "    (() => {\n",
              "      let quickchartButtonEl =\n",
              "        document.querySelector('#df-e7486e1c-2b6c-49ed-8e69-e5d607219e2a button');\n",
              "      quickchartButtonEl.style.display =\n",
              "        google.colab.kernel.accessAllowed ? 'block' : 'none';\n",
              "    })();\n",
              "  </script>\n",
              "</div>\n",
              "    </div>\n",
              "  </div>\n"
            ]
          },
          "metadata": {},
          "execution_count": 5
        }
      ],
      "source": [
        "df_credits = pd.read_csv('/content/kaggle/25k IMDb movie Dataset.csv')\n",
        "df_credits.head(10)"
      ]
    },
    {
      "cell_type": "code",
      "execution_count": null,
      "metadata": {
        "id": "iCdlBK6vGemW",
        "colab": {
          "base_uri": "https://localhost:8080/",
          "height": 414
        },
        "outputId": "9088d34c-692b-4fff-d159-c6f3e1f59237"
      },
      "outputs": [
        {
          "output_type": "execute_result",
          "data": {
            "text/plain": [
              "               movie_title                   runtime rating user_rating  \\\n",
              "0        Top Gun: Maverick  $170,000,000 (estimated)    8.6        187K   \n",
              "1  Jurassic World Dominion        2 hours 27 minutes      6         56K   \n",
              "2                  Top Gun   $15,000,000 (estimated)    6.9        380K   \n",
              "3                Lightyear               $71,101,257    5.2         32K   \n",
              "4               Spiderhead              not-released    5.4         23K   \n",
              "\n",
              "                                 genres  \\\n",
              "0                   ['Action', 'Drama']   \n",
              "1     ['Action', 'Adventure', 'Sci-Fi']   \n",
              "2                   ['Action', 'Drama']   \n",
              "3  ['Animation', 'Action', 'Adventure']   \n",
              "4          ['Action', 'Crime', 'Drama']   \n",
              "\n",
              "                                            overview  \\\n",
              "0  After more than thirty years of service as one...   \n",
              "1  Four years after the destruction of Isla Nubla...   \n",
              "2  As students at the United States Navy's elite ...   \n",
              "3  While spending years attempting to return home...   \n",
              "4  In the near future, convicts are offered the c...   \n",
              "\n",
              "                                             keyword         director  \\\n",
              "0  ['fighter jet', 'sequel', 'u.s. navy', 'fighte...  Joseph Kosinski   \n",
              "1  ['dinosaur', 'jurassic park', 'tyrannosaurus r...  Colin Trevorrow   \n",
              "2  ['pilot', 'male camaraderie', 'u.s. navy', 'gr...       Tony Scott   \n",
              "3  ['galaxy', 'spaceship', 'robot', 'rocket', 'sp...    Angus MacLane   \n",
              "4  ['discover', 'medical', 'test', 'reality', 'fi...  Joseph Kosinski   \n",
              "\n",
              "                                               casts            writer   year  \\\n",
              "0  ['Jack Epps Jr.', 'Peter Craig', 'Tom Cruise',...          Jim Cash  -2022   \n",
              "1  ['Colin Trevorrow', 'Derek Connolly', 'Chris P...  Emily Carmichael  -2022   \n",
              "2  ['Jack Epps Jr.', 'Ehud Yonay', 'Tom Cruise', ...          Jim Cash  -1986   \n",
              "3  ['Jason Headley', 'Matthew Aldrich', 'Chris Ev...     Angus MacLane  -2022   \n",
              "4  ['Rhett Reese', 'Paul Wernick', 'Chris Hemswor...   George Saunders  -2022   \n",
              "\n",
              "                 path  \n",
              "0   /title/tt1745960/  \n",
              "1   /title/tt8041270/  \n",
              "2   /title/tt0092099/  \n",
              "3  /title/tt10298810/  \n",
              "4   /title/tt9783600/  "
            ],
            "text/html": [
              "\n",
              "  <div id=\"df-935b4e67-8b8f-4abe-b822-34931b710cca\" class=\"colab-df-container\">\n",
              "    <div>\n",
              "<style scoped>\n",
              "    .dataframe tbody tr th:only-of-type {\n",
              "        vertical-align: middle;\n",
              "    }\n",
              "\n",
              "    .dataframe tbody tr th {\n",
              "        vertical-align: top;\n",
              "    }\n",
              "\n",
              "    .dataframe thead th {\n",
              "        text-align: right;\n",
              "    }\n",
              "</style>\n",
              "<table border=\"1\" class=\"dataframe\">\n",
              "  <thead>\n",
              "    <tr style=\"text-align: right;\">\n",
              "      <th></th>\n",
              "      <th>movie_title</th>\n",
              "      <th>runtime</th>\n",
              "      <th>rating</th>\n",
              "      <th>user_rating</th>\n",
              "      <th>genres</th>\n",
              "      <th>overview</th>\n",
              "      <th>keyword</th>\n",
              "      <th>director</th>\n",
              "      <th>casts</th>\n",
              "      <th>writer</th>\n",
              "      <th>year</th>\n",
              "      <th>path</th>\n",
              "    </tr>\n",
              "  </thead>\n",
              "  <tbody>\n",
              "    <tr>\n",
              "      <th>0</th>\n",
              "      <td>Top Gun: Maverick</td>\n",
              "      <td>$170,000,000 (estimated)</td>\n",
              "      <td>8.6</td>\n",
              "      <td>187K</td>\n",
              "      <td>['Action', 'Drama']</td>\n",
              "      <td>After more than thirty years of service as one...</td>\n",
              "      <td>['fighter jet', 'sequel', 'u.s. navy', 'fighte...</td>\n",
              "      <td>Joseph Kosinski</td>\n",
              "      <td>['Jack Epps Jr.', 'Peter Craig', 'Tom Cruise',...</td>\n",
              "      <td>Jim Cash</td>\n",
              "      <td>-2022</td>\n",
              "      <td>/title/tt1745960/</td>\n",
              "    </tr>\n",
              "    <tr>\n",
              "      <th>1</th>\n",
              "      <td>Jurassic World Dominion</td>\n",
              "      <td>2 hours 27 minutes</td>\n",
              "      <td>6</td>\n",
              "      <td>56K</td>\n",
              "      <td>['Action', 'Adventure', 'Sci-Fi']</td>\n",
              "      <td>Four years after the destruction of Isla Nubla...</td>\n",
              "      <td>['dinosaur', 'jurassic park', 'tyrannosaurus r...</td>\n",
              "      <td>Colin Trevorrow</td>\n",
              "      <td>['Colin Trevorrow', 'Derek Connolly', 'Chris P...</td>\n",
              "      <td>Emily Carmichael</td>\n",
              "      <td>-2022</td>\n",
              "      <td>/title/tt8041270/</td>\n",
              "    </tr>\n",
              "    <tr>\n",
              "      <th>2</th>\n",
              "      <td>Top Gun</td>\n",
              "      <td>$15,000,000 (estimated)</td>\n",
              "      <td>6.9</td>\n",
              "      <td>380K</td>\n",
              "      <td>['Action', 'Drama']</td>\n",
              "      <td>As students at the United States Navy's elite ...</td>\n",
              "      <td>['pilot', 'male camaraderie', 'u.s. navy', 'gr...</td>\n",
              "      <td>Tony Scott</td>\n",
              "      <td>['Jack Epps Jr.', 'Ehud Yonay', 'Tom Cruise', ...</td>\n",
              "      <td>Jim Cash</td>\n",
              "      <td>-1986</td>\n",
              "      <td>/title/tt0092099/</td>\n",
              "    </tr>\n",
              "    <tr>\n",
              "      <th>3</th>\n",
              "      <td>Lightyear</td>\n",
              "      <td>$71,101,257</td>\n",
              "      <td>5.2</td>\n",
              "      <td>32K</td>\n",
              "      <td>['Animation', 'Action', 'Adventure']</td>\n",
              "      <td>While spending years attempting to return home...</td>\n",
              "      <td>['galaxy', 'spaceship', 'robot', 'rocket', 'sp...</td>\n",
              "      <td>Angus MacLane</td>\n",
              "      <td>['Jason Headley', 'Matthew Aldrich', 'Chris Ev...</td>\n",
              "      <td>Angus MacLane</td>\n",
              "      <td>-2022</td>\n",
              "      <td>/title/tt10298810/</td>\n",
              "    </tr>\n",
              "    <tr>\n",
              "      <th>4</th>\n",
              "      <td>Spiderhead</td>\n",
              "      <td>not-released</td>\n",
              "      <td>5.4</td>\n",
              "      <td>23K</td>\n",
              "      <td>['Action', 'Crime', 'Drama']</td>\n",
              "      <td>In the near future, convicts are offered the c...</td>\n",
              "      <td>['discover', 'medical', 'test', 'reality', 'fi...</td>\n",
              "      <td>Joseph Kosinski</td>\n",
              "      <td>['Rhett Reese', 'Paul Wernick', 'Chris Hemswor...</td>\n",
              "      <td>George Saunders</td>\n",
              "      <td>-2022</td>\n",
              "      <td>/title/tt9783600/</td>\n",
              "    </tr>\n",
              "  </tbody>\n",
              "</table>\n",
              "</div>\n",
              "    <div class=\"colab-df-buttons\">\n",
              "\n",
              "  <div class=\"colab-df-container\">\n",
              "    <button class=\"colab-df-convert\" onclick=\"convertToInteractive('df-935b4e67-8b8f-4abe-b822-34931b710cca')\"\n",
              "            title=\"Convert this dataframe to an interactive table.\"\n",
              "            style=\"display:none;\">\n",
              "\n",
              "  <svg xmlns=\"http://www.w3.org/2000/svg\" height=\"24px\" viewBox=\"0 -960 960 960\">\n",
              "    <path d=\"M120-120v-720h720v720H120Zm60-500h600v-160H180v160Zm220 220h160v-160H400v160Zm0 220h160v-160H400v160ZM180-400h160v-160H180v160Zm440 0h160v-160H620v160ZM180-180h160v-160H180v160Zm440 0h160v-160H620v160Z\"/>\n",
              "  </svg>\n",
              "    </button>\n",
              "\n",
              "  <style>\n",
              "    .colab-df-container {\n",
              "      display:flex;\n",
              "      gap: 12px;\n",
              "    }\n",
              "\n",
              "    .colab-df-convert {\n",
              "      background-color: #E8F0FE;\n",
              "      border: none;\n",
              "      border-radius: 50%;\n",
              "      cursor: pointer;\n",
              "      display: none;\n",
              "      fill: #1967D2;\n",
              "      height: 32px;\n",
              "      padding: 0 0 0 0;\n",
              "      width: 32px;\n",
              "    }\n",
              "\n",
              "    .colab-df-convert:hover {\n",
              "      background-color: #E2EBFA;\n",
              "      box-shadow: 0px 1px 2px rgba(60, 64, 67, 0.3), 0px 1px 3px 1px rgba(60, 64, 67, 0.15);\n",
              "      fill: #174EA6;\n",
              "    }\n",
              "\n",
              "    .colab-df-buttons div {\n",
              "      margin-bottom: 4px;\n",
              "    }\n",
              "\n",
              "    [theme=dark] .colab-df-convert {\n",
              "      background-color: #3B4455;\n",
              "      fill: #D2E3FC;\n",
              "    }\n",
              "\n",
              "    [theme=dark] .colab-df-convert:hover {\n",
              "      background-color: #434B5C;\n",
              "      box-shadow: 0px 1px 3px 1px rgba(0, 0, 0, 0.15);\n",
              "      filter: drop-shadow(0px 1px 2px rgba(0, 0, 0, 0.3));\n",
              "      fill: #FFFFFF;\n",
              "    }\n",
              "  </style>\n",
              "\n",
              "    <script>\n",
              "      const buttonEl =\n",
              "        document.querySelector('#df-935b4e67-8b8f-4abe-b822-34931b710cca button.colab-df-convert');\n",
              "      buttonEl.style.display =\n",
              "        google.colab.kernel.accessAllowed ? 'block' : 'none';\n",
              "\n",
              "      async function convertToInteractive(key) {\n",
              "        const element = document.querySelector('#df-935b4e67-8b8f-4abe-b822-34931b710cca');\n",
              "        const dataTable =\n",
              "          await google.colab.kernel.invokeFunction('convertToInteractive',\n",
              "                                                    [key], {});\n",
              "        if (!dataTable) return;\n",
              "\n",
              "        const docLinkHtml = 'Like what you see? Visit the ' +\n",
              "          '<a target=\"_blank\" href=https://colab.research.google.com/notebooks/data_table.ipynb>data table notebook</a>'\n",
              "          + ' to learn more about interactive tables.';\n",
              "        element.innerHTML = '';\n",
              "        dataTable['output_type'] = 'display_data';\n",
              "        await google.colab.output.renderOutput(dataTable, element);\n",
              "        const docLink = document.createElement('div');\n",
              "        docLink.innerHTML = docLinkHtml;\n",
              "        element.appendChild(docLink);\n",
              "      }\n",
              "    </script>\n",
              "  </div>\n",
              "\n",
              "\n",
              "<div id=\"df-5b8c1c1e-2e89-4f4d-8494-0a84623aa093\">\n",
              "  <button class=\"colab-df-quickchart\" onclick=\"quickchart('df-5b8c1c1e-2e89-4f4d-8494-0a84623aa093')\"\n",
              "            title=\"Suggest charts.\"\n",
              "            style=\"display:none;\">\n",
              "\n",
              "<svg xmlns=\"http://www.w3.org/2000/svg\" height=\"24px\"viewBox=\"0 0 24 24\"\n",
              "     width=\"24px\">\n",
              "    <g>\n",
              "        <path d=\"M19 3H5c-1.1 0-2 .9-2 2v14c0 1.1.9 2 2 2h14c1.1 0 2-.9 2-2V5c0-1.1-.9-2-2-2zM9 17H7v-7h2v7zm4 0h-2V7h2v10zm4 0h-2v-4h2v4z\"/>\n",
              "    </g>\n",
              "</svg>\n",
              "  </button>\n",
              "\n",
              "<style>\n",
              "  .colab-df-quickchart {\n",
              "    background-color: #E8F0FE;\n",
              "    border: none;\n",
              "    border-radius: 50%;\n",
              "    cursor: pointer;\n",
              "    display: none;\n",
              "    fill: #1967D2;\n",
              "    height: 32px;\n",
              "    padding: 0 0 0 0;\n",
              "    width: 32px;\n",
              "  }\n",
              "\n",
              "  .colab-df-quickchart:hover {\n",
              "    background-color: #E2EBFA;\n",
              "    box-shadow: 0px 1px 2px rgba(60, 64, 67, 0.3), 0px 1px 3px 1px rgba(60, 64, 67, 0.15);\n",
              "    fill: #174EA6;\n",
              "  }\n",
              "\n",
              "  [theme=dark] .colab-df-quickchart {\n",
              "    background-color: #3B4455;\n",
              "    fill: #D2E3FC;\n",
              "  }\n",
              "\n",
              "  [theme=dark] .colab-df-quickchart:hover {\n",
              "    background-color: #434B5C;\n",
              "    box-shadow: 0px 1px 3px 1px rgba(0, 0, 0, 0.15);\n",
              "    filter: drop-shadow(0px 1px 2px rgba(0, 0, 0, 0.3));\n",
              "    fill: #FFFFFF;\n",
              "  }\n",
              "</style>\n",
              "\n",
              "  <script>\n",
              "    async function quickchart(key) {\n",
              "      const charts = await google.colab.kernel.invokeFunction(\n",
              "          'suggestCharts', [key], {});\n",
              "    }\n",
              "    (() => {\n",
              "      let quickchartButtonEl =\n",
              "        document.querySelector('#df-5b8c1c1e-2e89-4f4d-8494-0a84623aa093 button');\n",
              "      quickchartButtonEl.style.display =\n",
              "        google.colab.kernel.accessAllowed ? 'block' : 'none';\n",
              "    })();\n",
              "  </script>\n",
              "</div>\n",
              "    </div>\n",
              "  </div>\n"
            ]
          },
          "metadata": {},
          "execution_count": 6
        }
      ],
      "source": [
        "df_credits = df_credits.rename(columns={'movie title': 'movie_title', 'Run Time': 'runtime', 'Rating': 'rating', 'User Rating': 'user_rating', 'Generes': 'genres',\n",
        "                                        'Overview': 'overview', 'Plot Kyeword': 'keyword', 'Director': 'director', 'Top 5 Casts': 'casts', 'Writer': 'writer'})\n",
        "df_credits.head(5)"
      ]
    },
    {
      "cell_type": "code",
      "execution_count": null,
      "metadata": {
        "id": "45G0L62Wm-vJ",
        "colab": {
          "base_uri": "https://localhost:8080/",
          "height": 36
        },
        "outputId": "c0eddb34-101a-4ea8-e2f9-60f21c06c131"
      },
      "outputs": [
        {
          "output_type": "execute_result",
          "data": {
            "text/plain": [
              "\"['Patrick Burleigh', 'Ryan Firpo', 'Gemma Chan', 'Richard Madden', 'Angelina Jolie']\""
            ],
            "application/vnd.google.colaboratory.intrinsic+json": {
              "type": "string"
            }
          },
          "metadata": {},
          "execution_count": 7
        }
      ],
      "source": [
        "df_credits.casts[42]"
      ]
    },
    {
      "cell_type": "code",
      "execution_count": null,
      "metadata": {
        "id": "I2xXX7X9np1I",
        "colab": {
          "base_uri": "https://localhost:8080/"
        },
        "outputId": "52f4cf39-73c4-46b8-8df8-bf25f4ee8c15"
      },
      "outputs": [
        {
          "output_type": "stream",
          "name": "stdout",
          "text": [
            "Empty cells: 1\n",
            "Cells with NaN values: 0\n"
          ]
        }
      ],
      "source": [
        "# Check for any kind of missing values\n",
        "print('Empty cells: ' + str(len(df_credits[df_credits['casts'] == '[]'])))\n",
        "print('Cells with NaN values: ' + str(df_credits.casts.isna().sum()))"
      ]
    },
    {
      "cell_type": "code",
      "execution_count": null,
      "metadata": {
        "id": "1jrmT3Q8yHUI"
      },
      "outputs": [],
      "source": [
        "def extract_key(input_string, key):\n",
        "    '''\n",
        "    Recieves a json dict in string form and a key name. For every entry into the dict, the keyed values is extracted and added to a list as a string.\n",
        "    The final list containing all keyed values is retuned.\n",
        "  `  '''\n",
        "    try:\n",
        "        # evaluate string into actual dict object\n",
        "        temp_list_of_dicts = ast.literal_eval(input_string)\n",
        "        # loop over all entries; extract keyed value; replace punctuation with '' and whitespace with '_'; return all values as list\n",
        "        return [re.sub(r'[^\\w]', ' ',re.sub(r'[^\\w\\s]', '', entry[key])) for entry in temp_list_of_dicts]\n",
        "    except:\n",
        "        # if error or empty just return empty list\n",
        "        return ['']"
      ]
    },
    {
      "cell_type": "markdown",
      "metadata": {
        "id": "hadh033VOj7-"
      },
      "source": [
        "\n",
        "\n",
        "##Preprocessing"
      ]
    },
    {
      "cell_type": "code",
      "execution_count": null,
      "metadata": {
        "id": "jOvRFWd8f1jP"
      },
      "outputs": [],
      "source": [
        "df_credits.drop(columns=['user_rating'], inplace=True)\n",
        "df_credits.drop(columns=['path'], inplace=True)\n",
        "df_credits.drop(columns=['runtime'], inplace=True)\n",
        "#df_credits.drop(columns=['year'], inplace=True)"
      ]
    },
    {
      "cell_type": "code",
      "execution_count": null,
      "metadata": {
        "id": "okpUv7yorDfB"
      },
      "outputs": [],
      "source": [
        "df_credits = df_credits[~df_credits.apply(lambda row: row.astype(str).str.contains('\\$')).any(axis=1)]\n",
        "df_credits = df_credits[~df_credits.apply(lambda row: row.astype(str).str.contains('no-rating')).any(axis=1)]\n",
        "df_credits = df_credits.dropna()\n",
        "#df_credits = df_credits[~df_credits.apply(lambda row: row.astype(str).str.contains('')).any(axis=1)]"
      ]
    },
    {
      "cell_type": "code",
      "execution_count": null,
      "metadata": {
        "id": "QlxP0H_amOUC",
        "colab": {
          "base_uri": "https://localhost:8080/",
          "height": 293
        },
        "outputId": "1c4600c9-52c4-46ee-8dd0-4a809c32d096"
      },
      "outputs": [
        {
          "output_type": "execute_result",
          "data": {
            "text/plain": [
              "               movie_title rating                                genres  \\\n",
              "0        Top Gun: Maverick    8.6                   ['Action', 'Drama']   \n",
              "1  Jurassic World Dominion      6     ['Action', 'Adventure', 'Sci-Fi']   \n",
              "2                  Top Gun    6.9                   ['Action', 'Drama']   \n",
              "3                Lightyear    5.2  ['Animation', 'Action', 'Adventure']   \n",
              "4               Spiderhead    5.4          ['Action', 'Crime', 'Drama']   \n",
              "\n",
              "                                            overview  \\\n",
              "0  After more than thirty years of service as one...   \n",
              "1  Four years after the destruction of Isla Nubla...   \n",
              "2  As students at the United States Navy's elite ...   \n",
              "3  While spending years attempting to return home...   \n",
              "4  In the near future, convicts are offered the c...   \n",
              "\n",
              "                                             keyword         director  \\\n",
              "0  ['fighter jet', 'sequel', 'u.s. navy', 'fighte...  Joseph Kosinski   \n",
              "1  ['dinosaur', 'jurassic park', 'tyrannosaurus r...  Colin Trevorrow   \n",
              "2  ['pilot', 'male camaraderie', 'u.s. navy', 'gr...       Tony Scott   \n",
              "3  ['galaxy', 'spaceship', 'robot', 'rocket', 'sp...    Angus MacLane   \n",
              "4  ['discover', 'medical', 'test', 'reality', 'fi...  Joseph Kosinski   \n",
              "\n",
              "                                               casts            writer   year  \n",
              "0  ['Jack Epps Jr.', 'Peter Craig', 'Tom Cruise',...          Jim Cash  -2022  \n",
              "1  ['Colin Trevorrow', 'Derek Connolly', 'Chris P...  Emily Carmichael  -2022  \n",
              "2  ['Jack Epps Jr.', 'Ehud Yonay', 'Tom Cruise', ...          Jim Cash  -1986  \n",
              "3  ['Jason Headley', 'Matthew Aldrich', 'Chris Ev...     Angus MacLane  -2022  \n",
              "4  ['Rhett Reese', 'Paul Wernick', 'Chris Hemswor...   George Saunders  -2022  "
            ],
            "text/html": [
              "\n",
              "  <div id=\"df-2a8ccf92-8ec3-4e47-8bf5-e08d54ad75bb\" class=\"colab-df-container\">\n",
              "    <div>\n",
              "<style scoped>\n",
              "    .dataframe tbody tr th:only-of-type {\n",
              "        vertical-align: middle;\n",
              "    }\n",
              "\n",
              "    .dataframe tbody tr th {\n",
              "        vertical-align: top;\n",
              "    }\n",
              "\n",
              "    .dataframe thead th {\n",
              "        text-align: right;\n",
              "    }\n",
              "</style>\n",
              "<table border=\"1\" class=\"dataframe\">\n",
              "  <thead>\n",
              "    <tr style=\"text-align: right;\">\n",
              "      <th></th>\n",
              "      <th>movie_title</th>\n",
              "      <th>rating</th>\n",
              "      <th>genres</th>\n",
              "      <th>overview</th>\n",
              "      <th>keyword</th>\n",
              "      <th>director</th>\n",
              "      <th>casts</th>\n",
              "      <th>writer</th>\n",
              "      <th>year</th>\n",
              "    </tr>\n",
              "  </thead>\n",
              "  <tbody>\n",
              "    <tr>\n",
              "      <th>0</th>\n",
              "      <td>Top Gun: Maverick</td>\n",
              "      <td>8.6</td>\n",
              "      <td>['Action', 'Drama']</td>\n",
              "      <td>After more than thirty years of service as one...</td>\n",
              "      <td>['fighter jet', 'sequel', 'u.s. navy', 'fighte...</td>\n",
              "      <td>Joseph Kosinski</td>\n",
              "      <td>['Jack Epps Jr.', 'Peter Craig', 'Tom Cruise',...</td>\n",
              "      <td>Jim Cash</td>\n",
              "      <td>-2022</td>\n",
              "    </tr>\n",
              "    <tr>\n",
              "      <th>1</th>\n",
              "      <td>Jurassic World Dominion</td>\n",
              "      <td>6</td>\n",
              "      <td>['Action', 'Adventure', 'Sci-Fi']</td>\n",
              "      <td>Four years after the destruction of Isla Nubla...</td>\n",
              "      <td>['dinosaur', 'jurassic park', 'tyrannosaurus r...</td>\n",
              "      <td>Colin Trevorrow</td>\n",
              "      <td>['Colin Trevorrow', 'Derek Connolly', 'Chris P...</td>\n",
              "      <td>Emily Carmichael</td>\n",
              "      <td>-2022</td>\n",
              "    </tr>\n",
              "    <tr>\n",
              "      <th>2</th>\n",
              "      <td>Top Gun</td>\n",
              "      <td>6.9</td>\n",
              "      <td>['Action', 'Drama']</td>\n",
              "      <td>As students at the United States Navy's elite ...</td>\n",
              "      <td>['pilot', 'male camaraderie', 'u.s. navy', 'gr...</td>\n",
              "      <td>Tony Scott</td>\n",
              "      <td>['Jack Epps Jr.', 'Ehud Yonay', 'Tom Cruise', ...</td>\n",
              "      <td>Jim Cash</td>\n",
              "      <td>-1986</td>\n",
              "    </tr>\n",
              "    <tr>\n",
              "      <th>3</th>\n",
              "      <td>Lightyear</td>\n",
              "      <td>5.2</td>\n",
              "      <td>['Animation', 'Action', 'Adventure']</td>\n",
              "      <td>While spending years attempting to return home...</td>\n",
              "      <td>['galaxy', 'spaceship', 'robot', 'rocket', 'sp...</td>\n",
              "      <td>Angus MacLane</td>\n",
              "      <td>['Jason Headley', 'Matthew Aldrich', 'Chris Ev...</td>\n",
              "      <td>Angus MacLane</td>\n",
              "      <td>-2022</td>\n",
              "    </tr>\n",
              "    <tr>\n",
              "      <th>4</th>\n",
              "      <td>Spiderhead</td>\n",
              "      <td>5.4</td>\n",
              "      <td>['Action', 'Crime', 'Drama']</td>\n",
              "      <td>In the near future, convicts are offered the c...</td>\n",
              "      <td>['discover', 'medical', 'test', 'reality', 'fi...</td>\n",
              "      <td>Joseph Kosinski</td>\n",
              "      <td>['Rhett Reese', 'Paul Wernick', 'Chris Hemswor...</td>\n",
              "      <td>George Saunders</td>\n",
              "      <td>-2022</td>\n",
              "    </tr>\n",
              "  </tbody>\n",
              "</table>\n",
              "</div>\n",
              "    <div class=\"colab-df-buttons\">\n",
              "\n",
              "  <div class=\"colab-df-container\">\n",
              "    <button class=\"colab-df-convert\" onclick=\"convertToInteractive('df-2a8ccf92-8ec3-4e47-8bf5-e08d54ad75bb')\"\n",
              "            title=\"Convert this dataframe to an interactive table.\"\n",
              "            style=\"display:none;\">\n",
              "\n",
              "  <svg xmlns=\"http://www.w3.org/2000/svg\" height=\"24px\" viewBox=\"0 -960 960 960\">\n",
              "    <path d=\"M120-120v-720h720v720H120Zm60-500h600v-160H180v160Zm220 220h160v-160H400v160Zm0 220h160v-160H400v160ZM180-400h160v-160H180v160Zm440 0h160v-160H620v160ZM180-180h160v-160H180v160Zm440 0h160v-160H620v160Z\"/>\n",
              "  </svg>\n",
              "    </button>\n",
              "\n",
              "  <style>\n",
              "    .colab-df-container {\n",
              "      display:flex;\n",
              "      gap: 12px;\n",
              "    }\n",
              "\n",
              "    .colab-df-convert {\n",
              "      background-color: #E8F0FE;\n",
              "      border: none;\n",
              "      border-radius: 50%;\n",
              "      cursor: pointer;\n",
              "      display: none;\n",
              "      fill: #1967D2;\n",
              "      height: 32px;\n",
              "      padding: 0 0 0 0;\n",
              "      width: 32px;\n",
              "    }\n",
              "\n",
              "    .colab-df-convert:hover {\n",
              "      background-color: #E2EBFA;\n",
              "      box-shadow: 0px 1px 2px rgba(60, 64, 67, 0.3), 0px 1px 3px 1px rgba(60, 64, 67, 0.15);\n",
              "      fill: #174EA6;\n",
              "    }\n",
              "\n",
              "    .colab-df-buttons div {\n",
              "      margin-bottom: 4px;\n",
              "    }\n",
              "\n",
              "    [theme=dark] .colab-df-convert {\n",
              "      background-color: #3B4455;\n",
              "      fill: #D2E3FC;\n",
              "    }\n",
              "\n",
              "    [theme=dark] .colab-df-convert:hover {\n",
              "      background-color: #434B5C;\n",
              "      box-shadow: 0px 1px 3px 1px rgba(0, 0, 0, 0.15);\n",
              "      filter: drop-shadow(0px 1px 2px rgba(0, 0, 0, 0.3));\n",
              "      fill: #FFFFFF;\n",
              "    }\n",
              "  </style>\n",
              "\n",
              "    <script>\n",
              "      const buttonEl =\n",
              "        document.querySelector('#df-2a8ccf92-8ec3-4e47-8bf5-e08d54ad75bb button.colab-df-convert');\n",
              "      buttonEl.style.display =\n",
              "        google.colab.kernel.accessAllowed ? 'block' : 'none';\n",
              "\n",
              "      async function convertToInteractive(key) {\n",
              "        const element = document.querySelector('#df-2a8ccf92-8ec3-4e47-8bf5-e08d54ad75bb');\n",
              "        const dataTable =\n",
              "          await google.colab.kernel.invokeFunction('convertToInteractive',\n",
              "                                                    [key], {});\n",
              "        if (!dataTable) return;\n",
              "\n",
              "        const docLinkHtml = 'Like what you see? Visit the ' +\n",
              "          '<a target=\"_blank\" href=https://colab.research.google.com/notebooks/data_table.ipynb>data table notebook</a>'\n",
              "          + ' to learn more about interactive tables.';\n",
              "        element.innerHTML = '';\n",
              "        dataTable['output_type'] = 'display_data';\n",
              "        await google.colab.output.renderOutput(dataTable, element);\n",
              "        const docLink = document.createElement('div');\n",
              "        docLink.innerHTML = docLinkHtml;\n",
              "        element.appendChild(docLink);\n",
              "      }\n",
              "    </script>\n",
              "  </div>\n",
              "\n",
              "\n",
              "<div id=\"df-0008cd9f-de54-43ab-a6f1-876700bd8f4c\">\n",
              "  <button class=\"colab-df-quickchart\" onclick=\"quickchart('df-0008cd9f-de54-43ab-a6f1-876700bd8f4c')\"\n",
              "            title=\"Suggest charts.\"\n",
              "            style=\"display:none;\">\n",
              "\n",
              "<svg xmlns=\"http://www.w3.org/2000/svg\" height=\"24px\"viewBox=\"0 0 24 24\"\n",
              "     width=\"24px\">\n",
              "    <g>\n",
              "        <path d=\"M19 3H5c-1.1 0-2 .9-2 2v14c0 1.1.9 2 2 2h14c1.1 0 2-.9 2-2V5c0-1.1-.9-2-2-2zM9 17H7v-7h2v7zm4 0h-2V7h2v10zm4 0h-2v-4h2v4z\"/>\n",
              "    </g>\n",
              "</svg>\n",
              "  </button>\n",
              "\n",
              "<style>\n",
              "  .colab-df-quickchart {\n",
              "    background-color: #E8F0FE;\n",
              "    border: none;\n",
              "    border-radius: 50%;\n",
              "    cursor: pointer;\n",
              "    display: none;\n",
              "    fill: #1967D2;\n",
              "    height: 32px;\n",
              "    padding: 0 0 0 0;\n",
              "    width: 32px;\n",
              "  }\n",
              "\n",
              "  .colab-df-quickchart:hover {\n",
              "    background-color: #E2EBFA;\n",
              "    box-shadow: 0px 1px 2px rgba(60, 64, 67, 0.3), 0px 1px 3px 1px rgba(60, 64, 67, 0.15);\n",
              "    fill: #174EA6;\n",
              "  }\n",
              "\n",
              "  [theme=dark] .colab-df-quickchart {\n",
              "    background-color: #3B4455;\n",
              "    fill: #D2E3FC;\n",
              "  }\n",
              "\n",
              "  [theme=dark] .colab-df-quickchart:hover {\n",
              "    background-color: #434B5C;\n",
              "    box-shadow: 0px 1px 3px 1px rgba(0, 0, 0, 0.15);\n",
              "    filter: drop-shadow(0px 1px 2px rgba(0, 0, 0, 0.3));\n",
              "    fill: #FFFFFF;\n",
              "  }\n",
              "</style>\n",
              "\n",
              "  <script>\n",
              "    async function quickchart(key) {\n",
              "      const charts = await google.colab.kernel.invokeFunction(\n",
              "          'suggestCharts', [key], {});\n",
              "    }\n",
              "    (() => {\n",
              "      let quickchartButtonEl =\n",
              "        document.querySelector('#df-0008cd9f-de54-43ab-a6f1-876700bd8f4c button');\n",
              "      quickchartButtonEl.style.display =\n",
              "        google.colab.kernel.accessAllowed ? 'block' : 'none';\n",
              "    })();\n",
              "  </script>\n",
              "</div>\n",
              "    </div>\n",
              "  </div>\n"
            ]
          },
          "metadata": {},
          "execution_count": 12
        }
      ],
      "source": [
        "df_credits.head(5)"
      ]
    },
    {
      "cell_type": "code",
      "execution_count": null,
      "metadata": {
        "id": "XipjJ4hX37-L",
        "colab": {
          "base_uri": "https://localhost:8080/"
        },
        "outputId": "94d6d399-d644-484e-983f-7d42fb2f1329"
      },
      "outputs": [
        {
          "output_type": "stream",
          "name": "stderr",
          "text": [
            "<ipython-input-13-3e3cba50f2a1>:1: FutureWarning: The default value of regex will change from True to False in a future version.\n",
            "  df_credits['genres'] = df_credits['genres'].str.replace(\"\\[|\\]|'\",\"\")\n",
            "<ipython-input-13-3e3cba50f2a1>:2: FutureWarning: The default value of regex will change from True to False in a future version.\n",
            "  df_credits['keyword'] = df_credits['keyword'].str.replace(\"\\[|\\]|'\",\"\")\n",
            "<ipython-input-13-3e3cba50f2a1>:3: FutureWarning: The default value of regex will change from True to False in a future version.\n",
            "  df_credits['casts'] = df_credits['casts'].str.replace(\"\\[|\\]|'\",\"\")\n",
            "<ipython-input-13-3e3cba50f2a1>:5: FutureWarning: The default value of regex will change from True to False in a future version.\n",
            "  df_credits['year'] = df_credits['year'].str.replace(\"[\\D+]\",\"\")\n"
          ]
        }
      ],
      "source": [
        "df_credits['genres'] = df_credits['genres'].str.replace(\"\\[|\\]|'\",\"\")\n",
        "df_credits['keyword'] = df_credits['keyword'].str.replace(\"\\[|\\]|'\",\"\")\n",
        "df_credits['casts'] = df_credits['casts'].str.replace(\"\\[|\\]|'\",\"\")\n",
        "df_credits['casts'] = df_credits['casts'].str.replace(\"no-rating\",\"\")\n",
        "df_credits['year'] = df_credits['year'].str.replace(\"[\\D+]\",\"\")"
      ]
    },
    {
      "cell_type": "code",
      "execution_count": null,
      "metadata": {
        "id": "99E02MQN9plp"
      },
      "outputs": [],
      "source": [
        "df_credits = df_credits[df_credits != ''].dropna()"
      ]
    },
    {
      "cell_type": "code",
      "execution_count": null,
      "metadata": {
        "id": "PA23tp_ThXJq"
      },
      "outputs": [],
      "source": [
        "df_credits['genres'] = df_credits['genres'].astype(str)\n",
        "df_credits['keyword'] = df_credits['keyword'].astype(str)\n",
        "df_credits['casts'] = df_credits['casts'].astype(str)\n",
        "df_credits['rating'] = df_credits['rating'].astype(float)\n",
        "df_credits['year'] = df_credits['year'].astype(int)\n",
        "#df_full['budget'] = df_full['budget'].astype(int)"
      ]
    },
    {
      "cell_type": "code",
      "execution_count": null,
      "metadata": {
        "id": "Rjx9qz5F1cq5"
      },
      "outputs": [],
      "source": [
        "#df_credits[df_credits.select_dtypes(np.float64).columns] = df_credits.select_dtypes(np.float64).astype(np.float32)"
      ]
    },
    {
      "cell_type": "code",
      "execution_count": null,
      "metadata": {
        "id": "m3TZdH7-U8c6",
        "colab": {
          "base_uri": "https://localhost:8080/"
        },
        "outputId": "489d0466-d0a3-4aee-cf1f-be9556c00529"
      },
      "outputs": [
        {
          "output_type": "execute_result",
          "data": {
            "text/plain": [
              "movie_title     object\n",
              "rating         float64\n",
              "genres          object\n",
              "overview        object\n",
              "keyword         object\n",
              "director        object\n",
              "casts           object\n",
              "writer          object\n",
              "year             int64\n",
              "dtype: object"
            ]
          },
          "metadata": {},
          "execution_count": 17
        }
      ],
      "source": [
        "df_credits.dtypes"
      ]
    },
    {
      "cell_type": "code",
      "execution_count": null,
      "metadata": {
        "id": "JRfCrMyi5yjT"
      },
      "outputs": [],
      "source": [
        "#df_credits['year'].fillna(0, inplace=True)\n",
        "#df_credits['year'] = df_credits['year'].astype('int')\n",
        "#df_credits['runtime'] = df_credits['runtime'].astype(int)\n",
        "#df_credits['budget'] = df_credits['budget'].astype(int)\n",
        "df_credits.fillna('', inplace=True)"
      ]
    },
    {
      "cell_type": "code",
      "execution_count": null,
      "metadata": {
        "id": "E6oVH8G5RfqP",
        "colab": {
          "base_uri": "https://localhost:8080/"
        },
        "outputId": "effe1d32-6f4e-47fc-9985-a4c2115b84a4"
      },
      "outputs": [
        {
          "output_type": "stream",
          "name": "stdout",
          "text": [
            "(21528, 9)\n"
          ]
        }
      ],
      "source": [
        "df_credits['year'].head(5)\n",
        "print(df_credits.shape)"
      ]
    },
    {
      "cell_type": "code",
      "execution_count": null,
      "metadata": {
        "id": "8nN5xajZMpOU",
        "colab": {
          "base_uri": "https://localhost:8080/",
          "height": 327
        },
        "outputId": "30e0668e-8a13-41d5-e466-523e723a37e1"
      },
      "outputs": [
        {
          "output_type": "execute_result",
          "data": {
            "text/plain": [
              "                                movie_title  rating                   genres  \\\n",
              "24396  Police Academy 4: Citizens on Patrol     4.9            Comedy, Crime   \n",
              "24397                          Delicatessen     7.6            Comedy, Crime   \n",
              "24399                              Bullwhip     5.1  Crime, Romance, Western   \n",
              "24400                          The Freshman     6.4            Comedy, Crime   \n",
              "24401                        Guys and Dolls     7.1   Comedy, Crime, Musical   \n",
              "\n",
              "                                                overview  \\\n",
              "24396  The misfit Police Academy (1984) graduates now...   \n",
              "24397  Post-apocalyptic surrealist black comedy about...   \n",
              "24399  In order to avoid the hangman's noose, a cowbo...   \n",
              "24400  An N.Y.C. film school student accepts a job wi...   \n",
              "24401  In New York, a gambler is challenged to take a...   \n",
              "\n",
              "                                                 keyword  \\\n",
              "24396  cleavage, wet t shirt, police academy, blonde,...   \n",
              "24397  surrealist, black comedy, human meat, absurd c...   \n",
              "24399  taming of the shrew, fur trader, business riva...   \n",
              "24400  endangered species, fish out of water, gangste...   \n",
              "24401  mission, gambler, new york city, based on stag...   \n",
              "\n",
              "                   director  \\\n",
              "24396             Jim Drake   \n",
              "24397             Marc Caro   \n",
              "24399          Harmon Jones   \n",
              "24400        Andrew Bergman   \n",
              "24401  Joseph L. Mankiewicz   \n",
              "\n",
              "                                                   casts              writer  \\\n",
              "24396  Pat Proft, Gene Quintano, Steve Guttenberg, Bu...         Neal Israel   \n",
              "24397  Jean-Pierre Jeunet, Marc Caro, Gilles Adrien, ...  Jean-Pierre Jeunet   \n",
              "24399  Guy Madison, Rhonda Fleming, James Griffith, H...    Adele Buffington   \n",
              "24400  Marlon Brando, Matthew Broderick, Bruno Kirby,...      Andrew Bergman   \n",
              "24401  Abe Burrows, Damon Runyon, Marlon Brando, Jean...         Jo Swerling   \n",
              "\n",
              "       year  \n",
              "24396  1987  \n",
              "24397  1991  \n",
              "24399  1958  \n",
              "24400  1990  \n",
              "24401  1955  "
            ],
            "text/html": [
              "\n",
              "  <div id=\"df-e0dfd6aa-0ef3-411c-9fb5-8e5c7c8cfb75\" class=\"colab-df-container\">\n",
              "    <div>\n",
              "<style scoped>\n",
              "    .dataframe tbody tr th:only-of-type {\n",
              "        vertical-align: middle;\n",
              "    }\n",
              "\n",
              "    .dataframe tbody tr th {\n",
              "        vertical-align: top;\n",
              "    }\n",
              "\n",
              "    .dataframe thead th {\n",
              "        text-align: right;\n",
              "    }\n",
              "</style>\n",
              "<table border=\"1\" class=\"dataframe\">\n",
              "  <thead>\n",
              "    <tr style=\"text-align: right;\">\n",
              "      <th></th>\n",
              "      <th>movie_title</th>\n",
              "      <th>rating</th>\n",
              "      <th>genres</th>\n",
              "      <th>overview</th>\n",
              "      <th>keyword</th>\n",
              "      <th>director</th>\n",
              "      <th>casts</th>\n",
              "      <th>writer</th>\n",
              "      <th>year</th>\n",
              "    </tr>\n",
              "  </thead>\n",
              "  <tbody>\n",
              "    <tr>\n",
              "      <th>24396</th>\n",
              "      <td>Police Academy 4: Citizens on Patrol</td>\n",
              "      <td>4.9</td>\n",
              "      <td>Comedy, Crime</td>\n",
              "      <td>The misfit Police Academy (1984) graduates now...</td>\n",
              "      <td>cleavage, wet t shirt, police academy, blonde,...</td>\n",
              "      <td>Jim Drake</td>\n",
              "      <td>Pat Proft, Gene Quintano, Steve Guttenberg, Bu...</td>\n",
              "      <td>Neal Israel</td>\n",
              "      <td>1987</td>\n",
              "    </tr>\n",
              "    <tr>\n",
              "      <th>24397</th>\n",
              "      <td>Delicatessen</td>\n",
              "      <td>7.6</td>\n",
              "      <td>Comedy, Crime</td>\n",
              "      <td>Post-apocalyptic surrealist black comedy about...</td>\n",
              "      <td>surrealist, black comedy, human meat, absurd c...</td>\n",
              "      <td>Marc Caro</td>\n",
              "      <td>Jean-Pierre Jeunet, Marc Caro, Gilles Adrien, ...</td>\n",
              "      <td>Jean-Pierre Jeunet</td>\n",
              "      <td>1991</td>\n",
              "    </tr>\n",
              "    <tr>\n",
              "      <th>24399</th>\n",
              "      <td>Bullwhip</td>\n",
              "      <td>5.1</td>\n",
              "      <td>Crime, Romance, Western</td>\n",
              "      <td>In order to avoid the hangman's noose, a cowbo...</td>\n",
              "      <td>taming of the shrew, fur trader, business riva...</td>\n",
              "      <td>Harmon Jones</td>\n",
              "      <td>Guy Madison, Rhonda Fleming, James Griffith, H...</td>\n",
              "      <td>Adele Buffington</td>\n",
              "      <td>1958</td>\n",
              "    </tr>\n",
              "    <tr>\n",
              "      <th>24400</th>\n",
              "      <td>The Freshman</td>\n",
              "      <td>6.4</td>\n",
              "      <td>Comedy, Crime</td>\n",
              "      <td>An N.Y.C. film school student accepts a job wi...</td>\n",
              "      <td>endangered species, fish out of water, gangste...</td>\n",
              "      <td>Andrew Bergman</td>\n",
              "      <td>Marlon Brando, Matthew Broderick, Bruno Kirby,...</td>\n",
              "      <td>Andrew Bergman</td>\n",
              "      <td>1990</td>\n",
              "    </tr>\n",
              "    <tr>\n",
              "      <th>24401</th>\n",
              "      <td>Guys and Dolls</td>\n",
              "      <td>7.1</td>\n",
              "      <td>Comedy, Crime, Musical</td>\n",
              "      <td>In New York, a gambler is challenged to take a...</td>\n",
              "      <td>mission, gambler, new york city, based on stag...</td>\n",
              "      <td>Joseph L. Mankiewicz</td>\n",
              "      <td>Abe Burrows, Damon Runyon, Marlon Brando, Jean...</td>\n",
              "      <td>Jo Swerling</td>\n",
              "      <td>1955</td>\n",
              "    </tr>\n",
              "  </tbody>\n",
              "</table>\n",
              "</div>\n",
              "    <div class=\"colab-df-buttons\">\n",
              "\n",
              "  <div class=\"colab-df-container\">\n",
              "    <button class=\"colab-df-convert\" onclick=\"convertToInteractive('df-e0dfd6aa-0ef3-411c-9fb5-8e5c7c8cfb75')\"\n",
              "            title=\"Convert this dataframe to an interactive table.\"\n",
              "            style=\"display:none;\">\n",
              "\n",
              "  <svg xmlns=\"http://www.w3.org/2000/svg\" height=\"24px\" viewBox=\"0 -960 960 960\">\n",
              "    <path d=\"M120-120v-720h720v720H120Zm60-500h600v-160H180v160Zm220 220h160v-160H400v160Zm0 220h160v-160H400v160ZM180-400h160v-160H180v160Zm440 0h160v-160H620v160ZM180-180h160v-160H180v160Zm440 0h160v-160H620v160Z\"/>\n",
              "  </svg>\n",
              "    </button>\n",
              "\n",
              "  <style>\n",
              "    .colab-df-container {\n",
              "      display:flex;\n",
              "      gap: 12px;\n",
              "    }\n",
              "\n",
              "    .colab-df-convert {\n",
              "      background-color: #E8F0FE;\n",
              "      border: none;\n",
              "      border-radius: 50%;\n",
              "      cursor: pointer;\n",
              "      display: none;\n",
              "      fill: #1967D2;\n",
              "      height: 32px;\n",
              "      padding: 0 0 0 0;\n",
              "      width: 32px;\n",
              "    }\n",
              "\n",
              "    .colab-df-convert:hover {\n",
              "      background-color: #E2EBFA;\n",
              "      box-shadow: 0px 1px 2px rgba(60, 64, 67, 0.3), 0px 1px 3px 1px rgba(60, 64, 67, 0.15);\n",
              "      fill: #174EA6;\n",
              "    }\n",
              "\n",
              "    .colab-df-buttons div {\n",
              "      margin-bottom: 4px;\n",
              "    }\n",
              "\n",
              "    [theme=dark] .colab-df-convert {\n",
              "      background-color: #3B4455;\n",
              "      fill: #D2E3FC;\n",
              "    }\n",
              "\n",
              "    [theme=dark] .colab-df-convert:hover {\n",
              "      background-color: #434B5C;\n",
              "      box-shadow: 0px 1px 3px 1px rgba(0, 0, 0, 0.15);\n",
              "      filter: drop-shadow(0px 1px 2px rgba(0, 0, 0, 0.3));\n",
              "      fill: #FFFFFF;\n",
              "    }\n",
              "  </style>\n",
              "\n",
              "    <script>\n",
              "      const buttonEl =\n",
              "        document.querySelector('#df-e0dfd6aa-0ef3-411c-9fb5-8e5c7c8cfb75 button.colab-df-convert');\n",
              "      buttonEl.style.display =\n",
              "        google.colab.kernel.accessAllowed ? 'block' : 'none';\n",
              "\n",
              "      async function convertToInteractive(key) {\n",
              "        const element = document.querySelector('#df-e0dfd6aa-0ef3-411c-9fb5-8e5c7c8cfb75');\n",
              "        const dataTable =\n",
              "          await google.colab.kernel.invokeFunction('convertToInteractive',\n",
              "                                                    [key], {});\n",
              "        if (!dataTable) return;\n",
              "\n",
              "        const docLinkHtml = 'Like what you see? Visit the ' +\n",
              "          '<a target=\"_blank\" href=https://colab.research.google.com/notebooks/data_table.ipynb>data table notebook</a>'\n",
              "          + ' to learn more about interactive tables.';\n",
              "        element.innerHTML = '';\n",
              "        dataTable['output_type'] = 'display_data';\n",
              "        await google.colab.output.renderOutput(dataTable, element);\n",
              "        const docLink = document.createElement('div');\n",
              "        docLink.innerHTML = docLinkHtml;\n",
              "        element.appendChild(docLink);\n",
              "      }\n",
              "    </script>\n",
              "  </div>\n",
              "\n",
              "\n",
              "<div id=\"df-6c9c249c-07c9-4d84-a8eb-9b10b42ef569\">\n",
              "  <button class=\"colab-df-quickchart\" onclick=\"quickchart('df-6c9c249c-07c9-4d84-a8eb-9b10b42ef569')\"\n",
              "            title=\"Suggest charts.\"\n",
              "            style=\"display:none;\">\n",
              "\n",
              "<svg xmlns=\"http://www.w3.org/2000/svg\" height=\"24px\"viewBox=\"0 0 24 24\"\n",
              "     width=\"24px\">\n",
              "    <g>\n",
              "        <path d=\"M19 3H5c-1.1 0-2 .9-2 2v14c0 1.1.9 2 2 2h14c1.1 0 2-.9 2-2V5c0-1.1-.9-2-2-2zM9 17H7v-7h2v7zm4 0h-2V7h2v10zm4 0h-2v-4h2v4z\"/>\n",
              "    </g>\n",
              "</svg>\n",
              "  </button>\n",
              "\n",
              "<style>\n",
              "  .colab-df-quickchart {\n",
              "    background-color: #E8F0FE;\n",
              "    border: none;\n",
              "    border-radius: 50%;\n",
              "    cursor: pointer;\n",
              "    display: none;\n",
              "    fill: #1967D2;\n",
              "    height: 32px;\n",
              "    padding: 0 0 0 0;\n",
              "    width: 32px;\n",
              "  }\n",
              "\n",
              "  .colab-df-quickchart:hover {\n",
              "    background-color: #E2EBFA;\n",
              "    box-shadow: 0px 1px 2px rgba(60, 64, 67, 0.3), 0px 1px 3px 1px rgba(60, 64, 67, 0.15);\n",
              "    fill: #174EA6;\n",
              "  }\n",
              "\n",
              "  [theme=dark] .colab-df-quickchart {\n",
              "    background-color: #3B4455;\n",
              "    fill: #D2E3FC;\n",
              "  }\n",
              "\n",
              "  [theme=dark] .colab-df-quickchart:hover {\n",
              "    background-color: #434B5C;\n",
              "    box-shadow: 0px 1px 3px 1px rgba(0, 0, 0, 0.15);\n",
              "    filter: drop-shadow(0px 1px 2px rgba(0, 0, 0, 0.3));\n",
              "    fill: #FFFFFF;\n",
              "  }\n",
              "</style>\n",
              "\n",
              "  <script>\n",
              "    async function quickchart(key) {\n",
              "      const charts = await google.colab.kernel.invokeFunction(\n",
              "          'suggestCharts', [key], {});\n",
              "    }\n",
              "    (() => {\n",
              "      let quickchartButtonEl =\n",
              "        document.querySelector('#df-6c9c249c-07c9-4d84-a8eb-9b10b42ef569 button');\n",
              "      quickchartButtonEl.style.display =\n",
              "        google.colab.kernel.accessAllowed ? 'block' : 'none';\n",
              "    })();\n",
              "  </script>\n",
              "</div>\n",
              "    </div>\n",
              "  </div>\n"
            ]
          },
          "metadata": {},
          "execution_count": 20
        }
      ],
      "source": [
        "df_credits.tail(5)"
      ]
    },
    {
      "cell_type": "code",
      "execution_count": null,
      "metadata": {
        "id": "oJ7_KH3O6ll3"
      },
      "outputs": [],
      "source": [
        "def df_to_dataset(dataframe, shuffle=True, batch_size=32):\n",
        "    df = dataframe.copy()\n",
        "    labels = df.pop('rating')\n",
        "    df = {key: value[:, tf.newaxis] for key, value in dataframe.items()}\n",
        "    ds = tf.data.Dataset.from_tensor_slices((dict(df), labels))\n",
        "    if shuffle:\n",
        "        ds = ds.shuffle(buffer_size=len(dataframe))\n",
        "    ds = ds.batch(batch_size)\n",
        "    ds = ds.prefetch(batch_size)\n",
        "    return ds\n",
        "\n",
        "def get_normalization_layer(name, dataset):\n",
        "    # Create a Normalization layer for the feature.\n",
        "    normalizer = layers.Normalization(axis=None)\n",
        "\n",
        "    # Prepare a Dataset that only yields the feature.\n",
        "    feature_ds = dataset.map(lambda x, y: x[name])\n",
        "\n",
        "    # Learn the statistics of the data.\n",
        "    normalizer.adapt(feature_ds)\n",
        "\n",
        "    return normalizer\n",
        "\n",
        "def get_category_encoding_layer(name, dataset, dtype, max_tokens=None):\n",
        "    # Create a layer that turns strings into integer indices.\n",
        "    #if dtype == 'string':\n",
        "    index = layers.StringLookup(max_tokens=max_tokens)\n",
        "    # Otherwise, create a layer that turns integer values into integer indices.\n",
        "\n",
        "    # Prepare a `tf.data.Dataset` that only yields the feature.\n",
        "    feature_ds = dataset.map(lambda x, y: x[name])\n",
        "\n",
        "    # Learn the set of possible values and assign them a fixed integer index.\n",
        "    index.adapt(feature_ds)\n",
        "\n",
        "    # Encode the integer indices.\n",
        "    encoder = layers.CategoryEncoding(num_tokens=index.vocabulary_size())\n",
        "\n",
        "    # Apply multi-hot encoding to the indices. The lambda function captures the\n",
        "    # layer, so you can use them, or include them in the Keras Functional model later.\n",
        "    return lambda feature: encoder(index(feature))"
      ]
    },
    {
      "cell_type": "code",
      "execution_count": null,
      "metadata": {
        "id": "mwbi45kMl7Kf"
      },
      "outputs": [],
      "source": [
        "train, val, test = np.split(df_credits.sample(frac=1), [int(0.8 * len(df_credits)), int(0.9 * len(df_credits))])"
      ]
    },
    {
      "cell_type": "code",
      "source": [
        "print(train.shape)\n",
        "print(val.shape)\n",
        "print(test.shape)"
      ],
      "metadata": {
        "id": "AzPeTTKt5sMZ",
        "colab": {
          "base_uri": "https://localhost:8080/"
        },
        "outputId": "027ae493-2c77-4e08-f759-7e8a7426f2f1"
      },
      "execution_count": null,
      "outputs": [
        {
          "output_type": "stream",
          "name": "stdout",
          "text": [
            "(17222, 9)\n",
            "(2153, 9)\n",
            "(2153, 9)\n"
          ]
        }
      ]
    },
    {
      "cell_type": "code",
      "execution_count": null,
      "metadata": {
        "id": "SCPgDZDr20P-",
        "colab": {
          "base_uri": "https://localhost:8080/"
        },
        "outputId": "e6271ef5-d2b0-40c1-86ed-a78b8977ab1b"
      },
      "outputs": [
        {
          "output_type": "execute_result",
          "data": {
            "text/plain": [
              "movie_title     object\n",
              "rating         float64\n",
              "genres          object\n",
              "overview        object\n",
              "keyword         object\n",
              "director        object\n",
              "casts           object\n",
              "writer          object\n",
              "year             int64\n",
              "dtype: object"
            ]
          },
          "metadata": {},
          "execution_count": 24
        }
      ],
      "source": [
        "train.dtypes"
      ]
    },
    {
      "cell_type": "code",
      "execution_count": null,
      "metadata": {
        "id": "SUMf38izm_ys",
        "colab": {
          "base_uri": "https://localhost:8080/"
        },
        "outputId": "429306eb-7849-47ba-d87e-b8e40499e616"
      },
      "outputs": [
        {
          "output_type": "stream",
          "name": "stderr",
          "text": [
            "<ipython-input-21-c4247e2f6adf>:4: FutureWarning: Support for multi-dimensional indexing (e.g. `obj[:, None]`) is deprecated and will be removed in a future version.  Convert to a numpy array before indexing instead.\n",
            "  df = {key: value[:, tf.newaxis] for key, value in dataframe.items()}\n",
            "<ipython-input-21-c4247e2f6adf>:4: FutureWarning: Support for multi-dimensional indexing (e.g. `obj[:, None]`) is deprecated and will be removed in a future version.  Convert to a numpy array before indexing instead.\n",
            "  df = {key: value[:, tf.newaxis] for key, value in dataframe.items()}\n",
            "<ipython-input-21-c4247e2f6adf>:4: FutureWarning: Support for multi-dimensional indexing (e.g. `obj[:, None]`) is deprecated and will be removed in a future version.  Convert to a numpy array before indexing instead.\n",
            "  df = {key: value[:, tf.newaxis] for key, value in dataframe.items()}\n"
          ]
        }
      ],
      "source": [
        "batch_size = 256\n",
        "train_ds = df_to_dataset(train, batch_size=batch_size)\n",
        "val_ds = df_to_dataset(val, shuffle=False, batch_size=batch_size)\n",
        "test_ds = df_to_dataset(test, shuffle=False, batch_size=batch_size)"
      ]
    },
    {
      "cell_type": "markdown",
      "metadata": {
        "id": "Epob_NI6sgi9"
      },
      "source": [
        "##Put in Keras Preprocessing Layers"
      ]
    },
    {
      "cell_type": "code",
      "execution_count": null,
      "metadata": {
        "id": "H2zUkEFisbIn"
      },
      "outputs": [],
      "source": [
        "all_inputs = []\n",
        "encoded_features = []\n",
        "categorical_cols = ['movie_title', 'genres', 'overview',\n",
        "                    'keyword', 'director', 'casts', 'writer']"
      ]
    },
    {
      "cell_type": "code",
      "execution_count": null,
      "metadata": {
        "id": "ItoDGOz-uSKI"
      },
      "outputs": [],
      "source": [
        "for header in ['year']:\n",
        "    numeric_col = tf.keras.Input(shape=(1,), name=header)\n",
        "    normalization_layer = get_normalization_layer(header, train_ds)\n",
        "    encoded_numeric_col = normalization_layer(numeric_col)\n",
        "    all_inputs.append(numeric_col)\n",
        "    encoded_features.append(encoded_numeric_col)\n",
        "\n",
        "for header in categorical_cols:\n",
        "    categorical_col = tf.keras.Input(shape=(1,), name=header, dtype='string')\n",
        "    encoding_layer = get_category_encoding_layer(name=header,\n",
        "                                                dataset=train_ds,\n",
        "                                                dtype='string',\n",
        "                                                max_tokens=5000)\n",
        "    encoded_categorical_col = encoding_layer(categorical_col)\n",
        "    all_inputs.append(categorical_col)\n",
        "    encoded_features.append(encoded_categorical_col)"
      ]
    },
    {
      "cell_type": "markdown",
      "metadata": {
        "id": "iZ6CdXYn04Zv"
      },
      "source": [
        "##Create Model"
      ]
    },
    {
      "cell_type": "code",
      "execution_count": null,
      "metadata": {
        "id": "wrxPmMK40-Ef"
      },
      "outputs": [],
      "source": [
        "all_features = tf.keras.layers.concatenate(encoded_features)\n",
        "x = tf.keras.layers.Dense(128, activation=\"relu\")(all_features)\n",
        "output = tf.keras.layers.Dense(1)(x)\n",
        "model = tf.keras.Model(inputs=all_inputs, outputs=output)\n"
      ]
    },
    {
      "cell_type": "code",
      "execution_count": null,
      "metadata": {
        "id": "iZh6FQqL1GtN"
      },
      "outputs": [],
      "source": [
        "loss = tf.keras.losses.MeanAbsoluteError()\n",
        "optimizer = tf.keras.optimizers.Adam()\n",
        "\n",
        "model.compile(optimizer=optimizer,\n",
        "              loss=loss,\n",
        "              metrics=[\"mae\"])"
      ]
    },
    {
      "cell_type": "code",
      "source": [
        "tf.keras.utils.plot_model(model, show_shapes=True, rankdir=\"LR\")"
      ],
      "metadata": {
        "id": "o0CeI38dCk3V",
        "outputId": "0259655e-b232-48ee-f5af-6219092c12b9",
        "colab": {
          "base_uri": "https://localhost:8080/",
          "height": 498
        }
      },
      "execution_count": null,
      "outputs": [
        {
          "output_type": "execute_result",
          "data": {
            "image/png": "[encoded data removed]",
            "text/plain": [
              "<IPython.core.display.Image object>"
            ]
          },
          "metadata": {},
          "execution_count": 30
        }
      ]
    },
    {
      "cell_type": "code",
      "execution_count": null,
      "metadata": {
        "id": "u-VB7lx-1J77"
      },
      "outputs": [],
      "source": [
        "early_stopping = tf.keras.callbacks.EarlyStopping(monitor='val_loss', patience=5, restore_best_weights=True)\n",
        "\n",
        "history = model.fit(train_ds, epochs=100, validation_data=val_ds, callbacks=[early_stopping])"
      ]
    },
    {
      "cell_type": "code",
      "execution_count": null,
      "metadata": {
        "id": "e3IowImG1YN-",
        "colab": {
          "base_uri": "https://localhost:8080/",
          "height": 472
        },
        "outputId": "cea3f603-b63e-40de-c8e2-6365d33d8aae"
      },
      "outputs": [
        {
          "output_type": "display_data",
          "data": {
            "text/plain": [
              "<Figure size 640x480 with 1 Axes>"
            ],
            "image/png": "[encoded data removed]"
          },
          "metadata": {}
        }
      ],
      "source": [
        "def plot_loss_acc(history):\n",
        "    loss = history.history['loss']\n",
        "    mae = history.history['mae']\n",
        "    val_loss = history.history['val_loss']\n",
        "    val_mae = history.history['val_mae']\n",
        "\n",
        "    epochs = range(len(mae))\n",
        "\n",
        "    plt.plot(epochs, mae, 'bo', label='Training Mean Absolute Error')\n",
        "    plt.plot(epochs, val_mae, 'b', label='Validation Mean Absolute Error')\n",
        "    plt.title('Training and validation Mean Absolute Error')\n",
        "    plt.xlabel('Epochs')\n",
        "    plt.ylabel('MAE')\n",
        "    plt.legend()\n",
        "    plt.show()\n",
        "\n",
        "plot_loss_acc(history)"
      ]
    },
    {
      "cell_type": "code",
      "execution_count": null,
      "metadata": {
        "id": "xotD6gK71tc6",
        "colab": {
          "base_uri": "https://localhost:8080/"
        },
        "outputId": "e03b7332-dc11-4260-ba58-6d59d8af6a45"
      },
      "outputs": [
        {
          "output_type": "stream",
          "name": "stderr",
          "text": [
            "WARNING:absl:Found untraced functions such as _update_step_xla while saving (showing 1 of 1). These functions will not be directly callable after loading.\n",
            "/usr/local/lib/python3.10/dist-packages/keras/engine/functional.py:639: UserWarning: Input dict contained keys ['rating'] which did not match any model input. They will be ignored by the model.\n",
            "  inputs = self._flatten_to_reference_inputs(inputs)\n"
          ]
        },
        {
          "output_type": "stream",
          "name": "stdout",
          "text": [
            "9/9 [==============================] - 1s 35ms/step - loss: 0.8037 - mae: 0.8037\n",
            "mae 0.8037455677986145\n",
            "loss 0.8037455677986145\n"
          ]
        }
      ],
      "source": [
        "model_path = 'saved_model'\n",
        "\n",
        "#model.save(model_path)\n",
        "model.save(model_path)\n",
        "reloaded_model = tf.keras.models.load_model(model_path)\n",
        "\n",
        "loss, accuracy = reloaded_model.evaluate(test_ds)\n",
        "print(\"mae\", accuracy)\n",
        "print(\"loss\", loss)"
      ]
    },
    {
      "cell_type": "code",
      "execution_count": null,
      "metadata": {
        "id": "EDgWtGHgz6Pk",
        "colab": {
          "base_uri": "https://localhost:8080/"
        },
        "outputId": "f6c2e64a-af98-4e51-c3d4-87dc058b04b2"
      },
      "outputs": [
        {
          "output_type": "stream",
          "name": "stdout",
          "text": [
            "  adding: content/saved_model/ (stored 0%)\n",
            "  adding: content/saved_model/assets/ (stored 0%)\n",
            "  adding: content/saved_model/variables/ (stored 0%)\n",
            "  adding: content/saved_model/variables/variables.data-00000-of-00001 (deflated 32%)\n",
            "  adding: content/saved_model/variables/variables.index (deflated 64%)\n",
            "  adding: content/saved_model/keras_metadata.pb (deflated 93%)\n",
            "  adding: content/saved_model/fingerprint.pb (stored 0%)\n",
            "  adding: content/saved_model/saved_model.pb (deflated 67%)\n"
          ]
        }
      ],
      "source": [
        "!zip -r /content/model.zip /content/saved_model"
      ]
    },
    {
      "cell_type": "code",
      "execution_count": null,
      "metadata": {
        "id": "xwSfG60U7RGR",
        "colab": {
          "base_uri": "https://localhost:8080/",
          "height": 36
        },
        "outputId": "fc7eed6a-d202-429e-c8a2-64809850396f"
      },
      "outputs": [
        {
          "output_type": "execute_result",
          "data": {
            "text/plain": [
              "'2.12.0'"
            ],
            "application/vnd.google.colaboratory.intrinsic+json": {
              "type": "string"
            }
          },
          "metadata": {},
          "execution_count": 34
        }
      ],
      "source": [
        "tf.__version__"
      ]
    },
    {
      "cell_type": "code",
      "execution_count": null,
      "metadata": {
        "id": "8BQAc4KQH2O8",
        "colab": {
          "base_uri": "https://localhost:8080/"
        },
        "outputId": "dd110630-93ba-4e8d-c182-58acdf8a5d31"
      },
      "outputs": [
        {
          "output_type": "stream",
          "name": "stdout",
          "text": [
            "Python 3.10.12\n"
          ]
        }
      ],
      "source": [
        "!python --version"
      ]
    },
    {
      "cell_type": "code",
      "execution_count": null,
      "metadata": {
        "id": "8glo9dJAH6Jy",
        "colab": {
          "base_uri": "https://localhost:8080/"
        },
        "outputId": "0d6aa36a-ebdb-4ff4-884b-19847dd1bc1c"
      },
      "outputs": [
        {
          "output_type": "stream",
          "name": "stdout",
          "text": [
            "Name: keras\n",
            "Version: 2.12.0\n",
            "Summary: Deep learning for humans.\n",
            "Home-page: https://keras.io/\n",
            "Author: Keras team\n",
            "Author-email: keras-users@googlegroups.com\n",
            "License: Apache 2.0\n",
            "Location: /usr/local/lib/python3.10/dist-packages\n",
            "Requires: \n",
            "Required-by: tensorflow\n"
          ]
        }
      ],
      "source": [
        "!pip show keras"
      ]
    }
  ],
  "metadata": {
    "accelerator": "GPU",
    "colab": {
      "provenance": [],
      "include_colab_link": true
    },
    "kernelspec": {
      "display_name": "Python 3",
      "name": "python3"
    },
    "language_info": {
      "name": "python"
    }
  },
  "nbformat": 4,
  "nbformat_minor": 0
}